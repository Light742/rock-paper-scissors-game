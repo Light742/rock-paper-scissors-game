{
 "cells": [
  {
   "cell_type": "code",
   "execution_count": 3,
   "id": "7c4331c5",
   "metadata": {
    "scrolled": false
   },
   "outputs": [
    {
     "name": "stdout",
     "output_type": "stream",
     "text": [
      "What do you choose? type 0 for rock, 1 for paper, and 2 for scissors.2\n",
      "Player\n",
      "s\n",
      "    _______\n",
      "---'   ____)____\n",
      "          ______)\n",
      "       __________)\n",
      "      (____)\n",
      "---.__(___)\n",
      "\n",
      "cpu\n",
      "\n",
      "    _______\n",
      "---'   ____)\n",
      "      (_____)\n",
      "      (_____)\n",
      "      (____)\n",
      "---.__(___)\n",
      "\n",
      "You lost!\n"
     ]
    }
   ],
   "source": [
    "rock = '''\n",
    "    _______\n",
    "---'   ____)\n",
    "      (_____)\n",
    "      (_____)\n",
    "      (____)\n",
    "---.__(___)\n",
    "'''\n",
    "\n",
    "paper = '''\n",
    "    _______\n",
    "---'   ____)____\n",
    "          ______)\n",
    "          _______)\n",
    "         _______)\n",
    "---.__________)\n",
    "'''\n",
    "\n",
    "\n",
    "\n",
    "scissors = '''\n",
    "    _______\n",
    "---'   ____)____\n",
    "          ______)\n",
    "       __________)\n",
    "      (____)\n",
    "---.__(___)\n",
    "'''\n",
    "\n",
    "\n",
    "import random\n",
    "cpu_brain = [\"rock\", \"paper\", \"scissors\"]\n",
    "player = input(\"What do you choose? type 0 for rock, 1 for paper, and 2 for scissors.\")\n",
    "if player == \"0\":\n",
    "    print(f'Player\\n{rock}')\n",
    "elif player == \"1\":\n",
    "    print(f'Player\\n{paper}')\n",
    "elif player == \"2\":\n",
    "    print(f'Player\\ns{scissors}')\n",
    "else:\n",
    "    print(\"bad input\")\n",
    "    \n",
    "if player == \"0\" or player == \"1\" or player == \"2\":\n",
    "    cpu = random.choice(cpu_brain)   \n",
    "    if cpu == \"rock\":\n",
    "        print(f'cpu\\n{rock}')\n",
    "    elif cpu == \"paper\":\n",
    "        print(f'cpu\\n{paper}')\n",
    "    elif cpu == \"scissors\":\n",
    "        print(f'cpu\\n{scissors}')\n",
    "else:\n",
    "    print(\"bad input from player\")\n",
    "    \n",
    "\n",
    "\n",
    "if player == \"0\":\n",
    "    if cpu == \"paper\":\n",
    "        print(\"You lost!\")\n",
    "    elif cpu == \"rock\":\n",
    "        print(\"It's a draw!\")\n",
    "    else:\n",
    "        print(\"You won!\")\n",
    "if player == \"1\":\n",
    "    if cpu == \"scissors\":\n",
    "        print(\"You lost!\")\n",
    "    elif cpu == \"paper\":\n",
    "        print(\"It's a draw!\")\n",
    "    else:\n",
    "        print(\"You won!\")\n",
    "if player == \"2\":\n",
    "    if cpu == \"rock\":\n",
    "        print(\"You lost!\")\n",
    "    elif cpu == \"scissors\":\n",
    "        print(\"It's a draw!\")\n",
    "    else:\n",
    "        print(\"You won!\")\n",
    "\n"
   ]
  },
  {
   "cell_type": "code",
   "execution_count": null,
   "id": "271bce76",
   "metadata": {},
   "outputs": [],
   "source": []
  },
  {
   "cell_type": "code",
   "execution_count": null,
   "id": "6effccdd",
   "metadata": {
    "scrolled": true
   },
   "outputs": [],
   "source": [
    "char = [\"goku\",\"vegeta\",\"frieza\"]\n",
    "pick = random.choice(char)\n",
    "print(pick)"
   ]
  },
  {
   "cell_type": "code",
   "execution_count": null,
   "id": "b724d50f",
   "metadata": {},
   "outputs": [],
   "source": []
  }
 ],
 "metadata": {
  "kernelspec": {
   "display_name": "Python 3",
   "language": "python",
   "name": "python3"
  },
  "language_info": {
   "codemirror_mode": {
    "name": "ipython",
    "version": 3
   },
   "file_extension": ".py",
   "mimetype": "text/x-python",
   "name": "python",
   "nbconvert_exporter": "python",
   "pygments_lexer": "ipython3",
   "version": "3.8.8"
  }
 },
 "nbformat": 4,
 "nbformat_minor": 5
}
